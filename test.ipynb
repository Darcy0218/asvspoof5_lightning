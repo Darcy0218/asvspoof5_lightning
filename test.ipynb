{
 "cells": [
  {
   "cell_type": "code",
   "execution_count": 1,
   "metadata": {},
   "outputs": [
    {
     "name": "stderr",
     "output_type": "stream",
     "text": [
      "/data8/wangzhiyong/miniconda3/envs/fad/lib/python3.8/site-packages/tqdm/auto.py:21: TqdmWarning: IProgress not found. Please update jupyter and ipywidgets. See https://ipywidgets.readthedocs.io/en/stable/user_install.html\n",
      "  from .autonotebook import tqdm as notebook_tqdm\n"
     ]
    }
   ],
   "source": [
    "from utils.loadData.asvspoof_data_DA_still_process import asvspoof_dataModule\n",
    "\n",
    "\n",
    "class sample():\n",
    "    truncate = 96000\n",
    "    testset = \"wzy\"\n",
    "    batch_size = 8\n",
    "\n",
    "dm_sample = asvspoof_dataModule(sample())\n",
    "dm_sample.setup(\"fit\")\n",
    "trn_loader = dm_sample.val_dataloader()"
   ]
  },
  {
   "cell_type": "code",
   "execution_count": 2,
   "metadata": {},
   "outputs": [
    {
     "name": "stdout",
     "output_type": "stream",
     "text": [
      "torch.Size([8, 96000])\n",
      "tensor([0, 0, 0, 0, 0, 0, 0, 0])\n",
      "('D_0000000001', 'D_0000000022', 'D_0000000043', 'D_0000000064', 'D_0000000085', 'D_0000000106', 'D_0000000127', 'D_0000000148')\n"
     ]
    }
   ],
   "source": [
    "for k in trn_loader:\n",
    "    print(k[0].shape)\n",
    "    print(k[1])\n",
    "    print(k[2])\n",
    "    break"
   ]
  }
 ],
 "metadata": {
  "kernelspec": {
   "display_name": "fad",
   "language": "python",
   "name": "python3"
  },
  "language_info": {
   "codemirror_mode": {
    "name": "ipython",
    "version": 3
   },
   "file_extension": ".py",
   "mimetype": "text/x-python",
   "name": "python",
   "nbconvert_exporter": "python",
   "pygments_lexer": "ipython3",
   "version": "3.8.19"
  }
 },
 "nbformat": 4,
 "nbformat_minor": 2
}
